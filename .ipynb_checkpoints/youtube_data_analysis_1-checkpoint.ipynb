{
 "cells": [
  {
   "cell_type": "code",
   "execution_count": 1,
   "metadata": {
    "_uuid": "9c4297dc172b5e34c4d1adc542377c577a1e073c"
   },
   "outputs": [],
   "source": [
    "import pandas as pd\n",
    "import numpy as np\n",
    "import seaborn as sns\n",
    "% matplotlib inline"
   ]
  },
  {
   "cell_type": "code",
   "execution_count": 6,
   "metadata": {
    "_uuid": "2d1685613b0c893f7053f33bb42c4169873bf64d"
   },
   "outputs": [
    {
     "data": {
      "text/html": [
       "<div>\n",
       "<style scoped>\n",
       "    .dataframe tbody tr th:only-of-type {\n",
       "        vertical-align: middle;\n",
       "    }\n",
       "\n",
       "    .dataframe tbody tr th {\n",
       "        vertical-align: top;\n",
       "    }\n",
       "\n",
       "    .dataframe thead th {\n",
       "        text-align: right;\n",
       "    }\n",
       "</style>\n",
       "<table border=\"1\" class=\"dataframe\">\n",
       "  <thead>\n",
       "    <tr style=\"text-align: right;\">\n",
       "      <th></th>\n",
       "      <th>Rank</th>\n",
       "      <th>Grade</th>\n",
       "      <th>Channel name</th>\n",
       "      <th>Video Uploads</th>\n",
       "      <th>Subscribers</th>\n",
       "      <th>Video views</th>\n",
       "    </tr>\n",
       "  </thead>\n",
       "  <tbody>\n",
       "    <tr>\n",
       "      <th>0</th>\n",
       "      <td>1st</td>\n",
       "      <td>A++</td>\n",
       "      <td>Zee TV</td>\n",
       "      <td>82757</td>\n",
       "      <td>18752951</td>\n",
       "      <td>20869786591</td>\n",
       "    </tr>\n",
       "    <tr>\n",
       "      <th>1</th>\n",
       "      <td>2nd</td>\n",
       "      <td>A++</td>\n",
       "      <td>T-Series</td>\n",
       "      <td>12661</td>\n",
       "      <td>61196302</td>\n",
       "      <td>47548839843</td>\n",
       "    </tr>\n",
       "    <tr>\n",
       "      <th>2</th>\n",
       "      <td>3rd</td>\n",
       "      <td>A++</td>\n",
       "      <td>Cocomelon - Nursery Rhymes</td>\n",
       "      <td>373</td>\n",
       "      <td>19238251</td>\n",
       "      <td>9793305082</td>\n",
       "    </tr>\n",
       "    <tr>\n",
       "      <th>3</th>\n",
       "      <td>4th</td>\n",
       "      <td>A++</td>\n",
       "      <td>SET India</td>\n",
       "      <td>27323</td>\n",
       "      <td>31180559</td>\n",
       "      <td>22675948293</td>\n",
       "    </tr>\n",
       "    <tr>\n",
       "      <th>4</th>\n",
       "      <td>5th</td>\n",
       "      <td>A++</td>\n",
       "      <td>WWE</td>\n",
       "      <td>36756</td>\n",
       "      <td>32852346</td>\n",
       "      <td>26273668433</td>\n",
       "    </tr>\n",
       "  </tbody>\n",
       "</table>\n",
       "</div>"
      ],
      "text/plain": [
       "  Rank Grade                Channel name Video Uploads Subscribers  \\\n",
       "0  1st  A++                       Zee TV         82757    18752951   \n",
       "1  2nd  A++                     T-Series         12661    61196302   \n",
       "2  3rd  A++   Cocomelon - Nursery Rhymes           373    19238251   \n",
       "3  4th  A++                    SET India         27323    31180559   \n",
       "4  5th  A++                          WWE         36756    32852346   \n",
       "\n",
       "   Video views  \n",
       "0  20869786591  \n",
       "1  47548839843  \n",
       "2   9793305082  \n",
       "3  22675948293  \n",
       "4  26273668433  "
      ]
     },
     "execution_count": 6,
     "metadata": {},
     "output_type": "execute_result"
    }
   ],
   "source": [
    "df = pd.read_csv('data_files/youtube_data.csv')\n",
    "df.head()"
   ]
  },
  {
   "cell_type": "code",
   "execution_count": 3,
   "metadata": {
    "_uuid": "e65e709c137841fbf3c3864138e3ba7a3d0ff754"
   },
   "outputs": [
    {
     "name": "stdout",
     "output_type": "stream",
     "text": [
      "<class 'pandas.core.frame.DataFrame'>\n",
      "RangeIndex: 5000 entries, 0 to 4999\n",
      "Data columns (total 6 columns):\n",
      "Rank             5000 non-null object\n",
      "Grade            5000 non-null object\n",
      "Channel name     5000 non-null object\n",
      "Video Uploads    5000 non-null object\n",
      "Subscribers      5000 non-null object\n",
      "Video views      5000 non-null int64\n",
      "dtypes: int64(1), object(5)\n",
      "memory usage: 234.5+ KB\n"
     ]
    }
   ],
   "source": [
    "df.info()"
   ]
  },
  {
   "cell_type": "code",
   "execution_count": 4,
   "metadata": {
    "_uuid": "cec19555b2b705a4cd0fa22e24ef0c18f4c380e1"
   },
   "outputs": [
    {
     "data": {
      "text/plain": [
       "Rank             False\n",
       "Grade            False\n",
       "Channel name     False\n",
       "Video Uploads    False\n",
       "Subscribers      False\n",
       "Video views      False\n",
       "dtype: bool"
      ]
     },
     "execution_count": 4,
     "metadata": {},
     "output_type": "execute_result"
    }
   ],
   "source": [
    "df.isnull().any()"
   ]
  },
  {
   "cell_type": "code",
   "execution_count": 7,
   "metadata": {
    "_uuid": "bf05d8794ecf030a519549cc3eb93539c49e9097"
   },
   "outputs": [
    {
     "data": {
      "text/html": [
       "<div>\n",
       "<style scoped>\n",
       "    .dataframe tbody tr th:only-of-type {\n",
       "        vertical-align: middle;\n",
       "    }\n",
       "\n",
       "    .dataframe tbody tr th {\n",
       "        vertical-align: top;\n",
       "    }\n",
       "\n",
       "    .dataframe thead th {\n",
       "        text-align: right;\n",
       "    }\n",
       "</style>\n",
       "<table border=\"1\" class=\"dataframe\">\n",
       "  <thead>\n",
       "    <tr style=\"text-align: right;\">\n",
       "      <th></th>\n",
       "      <th>Rank</th>\n",
       "      <th>Grade</th>\n",
       "      <th>Channel name</th>\n",
       "      <th>Video Uploads</th>\n",
       "      <th>Subscribers</th>\n",
       "      <th>Video views</th>\n",
       "    </tr>\n",
       "  </thead>\n",
       "  <tbody>\n",
       "    <tr>\n",
       "      <th>267</th>\n",
       "      <td>268th</td>\n",
       "      <td></td>\n",
       "      <td>MidnightXChannel</td>\n",
       "      <td>--</td>\n",
       "      <td>--</td>\n",
       "      <td>190256974</td>\n",
       "    </tr>\n",
       "    <tr>\n",
       "      <th>517</th>\n",
       "      <td>518th</td>\n",
       "      <td></td>\n",
       "      <td>Dusama Pets TV</td>\n",
       "      <td>--</td>\n",
       "      <td>--</td>\n",
       "      <td>91601494</td>\n",
       "    </tr>\n",
       "    <tr>\n",
       "      <th>2323</th>\n",
       "      <td>2,324th</td>\n",
       "      <td></td>\n",
       "      <td>Random</td>\n",
       "      <td>--</td>\n",
       "      <td>12275</td>\n",
       "      <td>17897584</td>\n",
       "    </tr>\n",
       "    <tr>\n",
       "      <th>3072</th>\n",
       "      <td>3,073rd</td>\n",
       "      <td></td>\n",
       "      <td>Boram Tube Toy Shcool [보람튜브…</td>\n",
       "      <td>--</td>\n",
       "      <td>726527</td>\n",
       "      <td>205555289</td>\n",
       "    </tr>\n",
       "    <tr>\n",
       "      <th>3247</th>\n",
       "      <td>3,248th</td>\n",
       "      <td></td>\n",
       "      <td>atheer sultan</td>\n",
       "      <td>--</td>\n",
       "      <td>--</td>\n",
       "      <td>79663674</td>\n",
       "    </tr>\n",
       "    <tr>\n",
       "      <th>4898</th>\n",
       "      <td>4,899th</td>\n",
       "      <td></td>\n",
       "      <td>ExzoticSlice</td>\n",
       "      <td>--</td>\n",
       "      <td>99785</td>\n",
       "      <td>9745292</td>\n",
       "    </tr>\n",
       "  </tbody>\n",
       "</table>\n",
       "</div>"
      ],
      "text/plain": [
       "         Rank Grade                  Channel name Video Uploads Subscribers  \\\n",
       "267     268th                    MidnightXChannel            --         --    \n",
       "517     518th                      Dusama Pets TV            --         --    \n",
       "2323  2,324th                              Random            --       12275   \n",
       "3072  3,073rd        Boram Tube Toy Shcool [보람튜브…            --      726527   \n",
       "3247  3,248th                       atheer sultan            --         --    \n",
       "4898  4,899th                        ExzoticSlice            --       99785   \n",
       "\n",
       "      Video views  \n",
       "267     190256974  \n",
       "517      91601494  \n",
       "2323     17897584  \n",
       "3072    205555289  \n",
       "3247     79663674  \n",
       "4898      9745292  "
      ]
     },
     "execution_count": 7,
     "metadata": {},
     "output_type": "execute_result"
    }
   ],
   "source": [
    "df[df['Video Uploads']=='--']"
   ]
  },
  {
   "cell_type": "code",
   "execution_count": 9,
   "metadata": {
    "_uuid": "22838202584fb139eb3cf2b7f2c43d55c4500099"
   },
   "outputs": [
    {
     "data": {
      "text/html": [
       "<div>\n",
       "<style scoped>\n",
       "    .dataframe tbody tr th:only-of-type {\n",
       "        vertical-align: middle;\n",
       "    }\n",
       "\n",
       "    .dataframe tbody tr th {\n",
       "        vertical-align: top;\n",
       "    }\n",
       "\n",
       "    .dataframe thead th {\n",
       "        text-align: right;\n",
       "    }\n",
       "</style>\n",
       "<table border=\"1\" class=\"dataframe\">\n",
       "  <thead>\n",
       "    <tr style=\"text-align: right;\">\n",
       "      <th></th>\n",
       "      <th>Rank</th>\n",
       "      <th>Grade</th>\n",
       "      <th>Channel name</th>\n",
       "      <th>Video Uploads</th>\n",
       "      <th>Subscribers</th>\n",
       "      <th>Video views</th>\n",
       "    </tr>\n",
       "  </thead>\n",
       "  <tbody>\n",
       "    <tr>\n",
       "      <th>0</th>\n",
       "      <td>1st</td>\n",
       "      <td>A++</td>\n",
       "      <td>Zee TV</td>\n",
       "      <td>82757</td>\n",
       "      <td>18752951</td>\n",
       "      <td>20869786591</td>\n",
       "    </tr>\n",
       "    <tr>\n",
       "      <th>1</th>\n",
       "      <td>2nd</td>\n",
       "      <td>A++</td>\n",
       "      <td>T-Series</td>\n",
       "      <td>12661</td>\n",
       "      <td>61196302</td>\n",
       "      <td>47548839843</td>\n",
       "    </tr>\n",
       "    <tr>\n",
       "      <th>2</th>\n",
       "      <td>3rd</td>\n",
       "      <td>A++</td>\n",
       "      <td>Cocomelon - Nursery Rhymes</td>\n",
       "      <td>373</td>\n",
       "      <td>19238251</td>\n",
       "      <td>9793305082</td>\n",
       "    </tr>\n",
       "    <tr>\n",
       "      <th>3</th>\n",
       "      <td>4th</td>\n",
       "      <td>A++</td>\n",
       "      <td>SET India</td>\n",
       "      <td>27323</td>\n",
       "      <td>31180559</td>\n",
       "      <td>22675948293</td>\n",
       "    </tr>\n",
       "    <tr>\n",
       "      <th>4</th>\n",
       "      <td>5th</td>\n",
       "      <td>A++</td>\n",
       "      <td>WWE</td>\n",
       "      <td>36756</td>\n",
       "      <td>32852346</td>\n",
       "      <td>26273668433</td>\n",
       "    </tr>\n",
       "  </tbody>\n",
       "</table>\n",
       "</div>"
      ],
      "text/plain": [
       "  Rank Grade                Channel name Video Uploads Subscribers  \\\n",
       "0  1st  A++                       Zee TV         82757    18752951   \n",
       "1  2nd  A++                     T-Series         12661    61196302   \n",
       "2  3rd  A++   Cocomelon - Nursery Rhymes           373    19238251   \n",
       "3  4th  A++                    SET India         27323    31180559   \n",
       "4  5th  A++                          WWE         36756    32852346   \n",
       "\n",
       "   Video views  \n",
       "0  20869786591  \n",
       "1  47548839843  \n",
       "2   9793305082  \n",
       "3  22675948293  \n",
       "4  26273668433  "
      ]
     },
     "execution_count": 9,
     "metadata": {},
     "output_type": "execute_result"
    }
   ],
   "source": [
    "t = df.replace('--', np.nan)\n",
    "t.head()"
   ]
  },
  {
   "cell_type": "code",
   "execution_count": 10,
   "metadata": {
    "_uuid": "c4876c3c742d9bbae3c3ccdce859991b84e80696"
   },
   "outputs": [],
   "source": [
    "t['Grade'] = t['Grade'].astype('category')\n",
    "t['Grade']=t['Grade'].cat.codes"
   ]
  },
  {
   "cell_type": "code",
   "execution_count": 11,
   "metadata": {
    "_uuid": "024d62f3af641c2bd0e9a8df3ed31bcd2470aeb7"
   },
   "outputs": [
    {
     "data": {
      "text/plain": [
       "0       2\n",
       "1       2\n",
       "2       2\n",
       "3       2\n",
       "4       2\n",
       "5       2\n",
       "6       2\n",
       "7       2\n",
       "8       2\n",
       "9       2\n",
       "10      1\n",
       "11      1\n",
       "12      1\n",
       "13      1\n",
       "14      1\n",
       "15      1\n",
       "16      1\n",
       "17      1\n",
       "18      1\n",
       "19      1\n",
       "20      1\n",
       "21      1\n",
       "22      1\n",
       "23      1\n",
       "24      1\n",
       "25      1\n",
       "26      1\n",
       "27      1\n",
       "28      1\n",
       "29      1\n",
       "       ..\n",
       "4970    4\n",
       "4971    4\n",
       "4972    4\n",
       "4973    4\n",
       "4974    4\n",
       "4975    4\n",
       "4976    4\n",
       "4977    4\n",
       "4978    4\n",
       "4979    4\n",
       "4980    4\n",
       "4981    4\n",
       "4982    4\n",
       "4983    4\n",
       "4984    4\n",
       "4985    4\n",
       "4986    4\n",
       "4987    4\n",
       "4988    4\n",
       "4989    4\n",
       "4990    4\n",
       "4991    4\n",
       "4992    4\n",
       "4993    4\n",
       "4994    4\n",
       "4995    4\n",
       "4996    4\n",
       "4997    4\n",
       "4998    4\n",
       "4999    4\n",
       "Name: Grade, Length: 5000, dtype: int8"
      ]
     },
     "execution_count": 11,
     "metadata": {},
     "output_type": "execute_result"
    }
   ],
   "source": [
    "t['Grade']"
   ]
  },
  {
   "cell_type": "code",
   "execution_count": 12,
   "metadata": {
    "_uuid": "fe81fa445d3f0c8d59026d1522ffc13a456c259c"
   },
   "outputs": [],
   "source": [
    "t=t.drop(columns=\"Channel name\")"
   ]
  },
  {
   "cell_type": "code",
   "execution_count": null,
   "metadata": {
    "_uuid": "d47013c062cf33cdda0c424268633c2403e4bc1b"
   },
   "outputs": [],
   "source": [
    "for i in range(1,5001):\n",
    "    t.iloc[i-1,0]=i"
   ]
  },
  {
   "cell_type": "code",
   "execution_count": null,
   "metadata": {
    "_uuid": "0e9bcc1d20fb76231e213fe4c078a5a695b93287"
   },
   "outputs": [],
   "source": [
    "t.head()"
   ]
  },
  {
   "cell_type": "code",
   "execution_count": null,
   "metadata": {
    "_uuid": "33f2cbf693f5b117501576c151822a9449736bf4"
   },
   "outputs": [],
   "source": [
    "t.isnull().any()"
   ]
  },
  {
   "cell_type": "code",
   "execution_count": null,
   "metadata": {
    "_uuid": "60c59b5402a8102b0c6d3dede91515bb60bec877"
   },
   "outputs": [],
   "source": [
    "t['Video Uploads']=t['Video Uploads'].fillna(0)"
   ]
  },
  {
   "cell_type": "code",
   "execution_count": null,
   "metadata": {
    "_uuid": "5f3108214ddd532d2822285a50daceb2e6661ea3"
   },
   "outputs": [],
   "source": [
    "t['Video Uploads']=t['Video Uploads'].astype('uint64')"
   ]
  },
  {
   "cell_type": "code",
   "execution_count": null,
   "metadata": {
    "_uuid": "84c889a63a8cf47c5ea728e547c9f045d6afceb6"
   },
   "outputs": [],
   "source": [
    "t['Subscribers'] = [x.replace('--','0') for x in t['Subscribers']]"
   ]
  },
  {
   "cell_type": "code",
   "execution_count": null,
   "metadata": {
    "_uuid": "58172e934afad778df9da9a642eaa2fa6e6e7133"
   },
   "outputs": [],
   "source": [
    "t['Subscribers']=t['Subscribers'].astype('uint64')"
   ]
  },
  {
   "cell_type": "code",
   "execution_count": null,
   "metadata": {
    "_uuid": "278187903dad2826b782c0fef64fcb83085affd1"
   },
   "outputs": [],
   "source": [
    "t.info()"
   ]
  },
  {
   "cell_type": "code",
   "execution_count": null,
   "metadata": {
    "_uuid": "c036a6d84e1ff9ee9f9e3ff60770f3cf0954d536"
   },
   "outputs": [],
   "source": [
    "t.hist()"
   ]
  },
  {
   "cell_type": "code",
   "execution_count": null,
   "metadata": {
    "_uuid": "294e38bec53fc0d68131c12e316eab4e1d1d507f"
   },
   "outputs": [],
   "source": [
    "t.hist(figsize=(10,10))"
   ]
  },
  {
   "cell_type": "code",
   "execution_count": null,
   "metadata": {
    "_uuid": "464fcc1526db521095ca654a93bb313374add12f"
   },
   "outputs": [],
   "source": [
    "t['Grade'].value_counts().plot(kind='bar')"
   ]
  },
  {
   "cell_type": "code",
   "execution_count": null,
   "metadata": {
    "_uuid": "0b382e9d424bca7b0cea642d1b243a91b80a9d93"
   },
   "outputs": [],
   "source": [
    "t['Grade'].value_counts().plot(kind='pie',figsize=(8,8))"
   ]
  },
  {
   "cell_type": "code",
   "execution_count": null,
   "metadata": {
    "_uuid": "5ddaf8d182eca05c78a996b664f6acf2326cbe4b"
   },
   "outputs": [],
   "source": [
    "pd.plotting.scatter_matrix(t,figsize=(15,15))"
   ]
  },
  {
   "cell_type": "code",
   "execution_count": null,
   "metadata": {
    "_uuid": "354f0cae1a76c9572483bb20786424db7a2f4430"
   },
   "outputs": [],
   "source": [
    "t['Video views'].plot(kind='box');"
   ]
  },
  {
   "cell_type": "code",
   "execution_count": null,
   "metadata": {
    "_uuid": "515e510a255c9fc60e8fdd3f380d1ad055c87e8d",
    "scrolled": false
   },
   "outputs": [],
   "source": [
    "sns.heatmap(t)"
   ]
  },
  {
   "cell_type": "code",
   "execution_count": null,
   "metadata": {
    "_uuid": "541f5bd8ef128c1ca126e40faa61b686da234d25"
   },
   "outputs": [],
   "source": [
    "sns.heatmap(t.corr(),cmap = 'RdGy')"
   ]
  },
  {
   "cell_type": "code",
   "execution_count": null,
   "metadata": {
    "_uuid": "6890c09224aca1bc6216cedb71a88c7a0337eb9d"
   },
   "outputs": [],
   "source": [
    "sns.pairplot(t.iloc[:,2:])"
   ]
  },
  {
   "cell_type": "markdown",
   "metadata": {
    "_uuid": "de600bb52dc42267b57867ce8ec8aaa28e1d5f20"
   },
   "source": [
    "**Findings**:\n",
    "1.Subscribers and video views are positively correlated. If subscribers increase video views will also increase.\n",
    "2.Subscribers and video uploads are slightly negatively correlated.\n",
    "3.Channels with large number of subscribers and viewers have less videos uploaded"
   ]
  },
  {
   "cell_type": "code",
   "execution_count": null,
   "metadata": {
    "_uuid": "32d36e9fb8ddb2dcc351c56727db1a7bc73ceadf"
   },
   "outputs": [],
   "source": []
  }
 ],
 "metadata": {
  "kernelspec": {
   "display_name": "Python 3",
   "language": "python",
   "name": "python3"
  },
  "language_info": {
   "codemirror_mode": {
    "name": "ipython",
    "version": 3
   },
   "file_extension": ".py",
   "mimetype": "text/x-python",
   "name": "python",
   "nbconvert_exporter": "python",
   "pygments_lexer": "ipython3",
   "version": "3.5.1"
  }
 },
 "nbformat": 4,
 "nbformat_minor": 1
}
